{
  "nbformat": 4,
  "nbformat_minor": 0,
  "metadata": {
    "colab": {
      "name": "Savings",
      "provenance": [],
      "authorship_tag": "ABX9TyPzexlq9X6KCqOkemETfPVY",
      "include_colab_link": true
    },
    "kernelspec": {
      "name": "python3",
      "display_name": "Python 3"
    }
  },
  "cells": [
    {
      "cell_type": "markdown",
      "metadata": {
        "id": "view-in-github",
        "colab_type": "text"
      },
      "source": [
        "<a href=\"https://colab.research.google.com/github/Cmeriam/BCS109/blob/master/Savings.ipynb\" target=\"_parent\"><img src=\"https://colab.research.google.com/assets/colab-badge.svg\" alt=\"Open In Colab\"/></a>"
      ]
    },
    {
      "cell_type": "code",
      "metadata": {
        "id": "p3BPik2s0wz_",
        "colab_type": "code",
        "colab": {}
      },
      "source": [
        ""
      ],
      "execution_count": null,
      "outputs": []
    },
    {
      "cell_type": "markdown",
      "metadata": {
        "id": "OE0MHJGM3GS1",
        "colab_type": "text"
      },
      "source": [
        "<h1>Present Value</h1>\n",
        "Here we calculate the present value using the equation:\n",
        "PV=FV/(1+r)<sup>years</sup>\n",
        "<p>We gather the data used in the equation from the user</p>"
      ]
    },
    {
      "cell_type": "code",
      "metadata": {
        "id": "Eb_HTBuz4tLj",
        "colab_type": "code",
        "colab": {
          "base_uri": "https://localhost:8080/",
          "height": 84
        },
        "outputId": "028146e4-9afb-4baa-faf3-ae704b080e3a"
      },
      "source": [
        "future_value = float(input('Enter the desired future value: '))\n",
        "rate = float(input('Enter the annual interest rate: '))\n",
        "years = int(input('Enter the number of years the money will grow: '))\n",
        "\n",
        "present_value = future_value / (1.0 + rate)**years\n",
        "\n",
        "print('You will need to deposit this amount:', present_value)"
      ],
      "execution_count": 1,
      "outputs": [
        {
          "output_type": "stream",
          "text": [
            "Enter the desired future value: 1000\n",
            "Enter the annual interest rate: 5\n",
            "Enter the number of years the money will grow: 10\n",
            "You will need to deposit this amount: 1.65381716879202e-05\n"
          ],
          "name": "stdout"
        }
      ]
    },
    {
      "cell_type": "markdown",
      "metadata": {
        "id": "Xef6x3AX7AF_",
        "colab_type": "text"
      },
      "source": [
        "<h1>Calculating Future Value</h1>\n",
        "By having the user provide the required values we can show the user just how much their savings can grow with the equation:\n",
        "FV = PV * (1 + r)<sup>years</sup>"
      ]
    },
    {
      "cell_type": "code",
      "metadata": {
        "id": "Smil0l3j8OTi",
        "colab_type": "code",
        "colab": {
          "base_uri": "https://localhost:8080/",
          "height": 84
        },
        "outputId": "7c847cf5-9c05-4397-d0eb-41e1d8bfa60a"
      },
      "source": [
        "present_value = float(input('Enter how much you would like to save: '))\n",
        "rate = float(input('Enter the desired annual interest rate: '))\n",
        "years = int(input('How many years would you like to let your money grow: '))\n",
        "\n",
        "future_value = present_value * (1 + rate)**years\n",
        "\n",
        "print('Your deposit will grow to a sum of:', future_value)"
      ],
      "execution_count": 2,
      "outputs": [
        {
          "output_type": "stream",
          "text": [
            "Enter how much you would like to save: 100\n",
            "Enter the desired annual interest rate: .05\n",
            "How many years would you like to let your money grow: 20\n",
            "Your deposit will grow to a sum of: 265.3297705144422\n"
          ],
          "name": "stdout"
        }
      ]
    }
  ]
}