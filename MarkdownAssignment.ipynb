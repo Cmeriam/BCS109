{
  "nbformat": 4,
  "nbformat_minor": 0,
  "metadata": {
    "colab": {
      "name": "MarkdownAssignment",
      "provenance": [],
      "collapsed_sections": [],
      "authorship_tag": "ABX9TyOXy4wjM93beug1+y5sMgFo",
      "include_colab_link": true
    },
    "kernelspec": {
      "name": "python3",
      "display_name": "Python 3"
    }
  },
  "cells": [
    {
      "cell_type": "markdown",
      "metadata": {
        "id": "view-in-github",
        "colab_type": "text"
      },
      "source": [
        "<a href=\"https://colab.research.google.com/github/Cmeriam/BCS109/blob/master/MarkdownAssignment.ipynb\" target=\"_parent\"><img src=\"https://colab.research.google.com/assets/colab-badge.svg\" alt=\"Open In Colab\"/></a>"
      ]
    },
    {
      "cell_type": "code",
      "metadata": {
        "id": "cUlTBuRZfBXf",
        "colab_type": "code",
        "colab": {}
      },
      "source": [
        ""
      ],
      "execution_count": null,
      "outputs": []
    },
    {
      "cell_type": "markdown",
      "metadata": {
        "id": "5ES_ss_Vg06V",
        "colab_type": "text"
      },
      "source": [
        "#**Interesting Facts About Me**#\n",
        "> In my spare time I practice a form of karate called <strong>Kempo</strong>. Kempo is a branch of *Kaju Kempo*\n",
        "\n",
        "\n",
        "##Kaju Kempo is built around:##\n",
        "* Doing as much damage as possible\n",
        "* And using as little energy as possible while doing it\n",
        "\n",
        "###I do it because:###\n",
        "1. It is fun\n",
        "2. It is good to learn self defense "
      ]
    }
  ]
}