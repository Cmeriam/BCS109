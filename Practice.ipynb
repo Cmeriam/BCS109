{
  "nbformat": 4,
  "nbformat_minor": 0,
  "metadata": {
    "colab": {
      "name": "Practice.ipynb",
      "provenance": [],
      "toc_visible": true,
      "authorship_tag": "ABX9TyMEcIRIgExRMHE8FwyETgwT",
      "include_colab_link": true
    },
    "kernelspec": {
      "name": "python3",
      "display_name": "Python 3"
    }
  },
  "cells": [
    {
      "cell_type": "markdown",
      "metadata": {
        "id": "view-in-github",
        "colab_type": "text"
      },
      "source": [
        "<a href=\"https://colab.research.google.com/github/Cmeriam/BCS109/blob/master/Practice.ipynb\" target=\"_parent\"><img src=\"https://colab.research.google.com/assets/colab-badge.svg\" alt=\"Open In Colab\"/></a>"
      ]
    },
    {
      "cell_type": "code",
      "metadata": {
        "id": "YwoteISupCpL",
        "colab_type": "code",
        "colab": {
          "base_uri": "https://localhost:8080/",
          "height": 34
        },
        "outputId": "d2d45829-946e-427f-f0df-2fae1d58ee37"
      },
      "source": [
        "print(5)"
      ],
      "execution_count": null,
      "outputs": [
        {
          "output_type": "stream",
          "text": [
            "5\n"
          ],
          "name": "stdout"
        }
      ]
    },
    {
      "cell_type": "markdown",
      "metadata": {
        "id": "XWior_YKtQUC",
        "colab_type": "text"
      },
      "source": [
        "#Phone Research\n",
        "this is my phone research \n",
        "I have *several key* Findings\n",
        "\n",
        "1.People are addicted to the phones\n",
        "\n",
        "2.People are addicted to the phones\n",
        "\n",
        "3.People are addicted to the phones"
      ]
    },
    {
      "cell_type": "code",
      "metadata": {
        "id": "6r7JGizgt2R2",
        "colab_type": "code",
        "colab": {
          "base_uri": "https://localhost:8080/",
          "height": 34
        },
        "outputId": "f70d81ab-0c24-4e4d-9337-d71254c56218"
      },
      "source": [
        "x = 5\n",
        "y = 8\n",
        "z = 22\n",
        "\n",
        "print(x + y + z)"
      ],
      "execution_count": null,
      "outputs": [
        {
          "output_type": "stream",
          "text": [
            "35\n"
          ],
          "name": "stdout"
        }
      ]
    },
    {
      "cell_type": "code",
      "metadata": {
        "id": "xuJUrJcazP_Z",
        "colab_type": "code",
        "colab": {
          "base_uri": "https://localhost:8080/",
          "height": 67
        },
        "outputId": "aa981043-efac-4b76-b5a0-4e93174895b8"
      },
      "source": [
        "#this collects the users name as the input\n",
        "name = input('What is your name?\\n')\n",
        "print(\"Hello there\", name)"
      ],
      "execution_count": null,
      "outputs": [
        {
          "output_type": "stream",
          "text": [
            "What is your name?\n",
            "bob\n",
            "Hello there bob\n"
          ],
          "name": "stdout"
        }
      ]
    }
  ]
}